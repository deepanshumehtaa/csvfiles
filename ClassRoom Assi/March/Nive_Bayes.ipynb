{
 "cells": [
  {
   "cell_type": "code",
   "execution_count": 13,
   "metadata": {},
   "outputs": [],
   "source": [
    "import pandas as pd\n",
    "import numpy as np\n",
    "data=pd.read_csv(\"nbdata1.csv\")\n",
    "data=pd.DataFrame(data)\n",
    "data1=pd.read_csv(\"nbdata2.csv\")\n",
    "data1=pd.DataFrame(data1)\n",
    "\n",
    "col=data.columns\n",
    "col1=data1.columns\n",
    "def naiveb(n):\n",
    "    row=data1.iloc[n]\n",
    "    l=[]\n",
    "    a1=0.0\n",
    "    last=1\n",
    "    for j in range(3):\n",
    "        last=1\n",
    "        for i in data1.columns:\n",
    "            if row[i]==True:\n",
    "                #col.append(i)\n",
    "                if data[i][j]!='0': \n",
    "                    a=data[i][j].split('/')\n",
    "                    #print(a)\n",
    "                    last=last*(float(a[0])/float(a[1]))\n",
    "                else:\n",
    "                    last=0\n",
    "                    \n",
    "        l.append(last)\n",
    "    return l\n"
   ]
  },
  {
   "cell_type": "code",
   "execution_count": 16,
   "metadata": {},
   "outputs": [
    {
     "name": "stdout",
     "output_type": "stream",
     "text": [
      "Fish\n",
      "Fish\n",
      "Parrot\n"
     ]
    }
   ],
   "source": [
    "l=[]\n",
    "for i in range(3):\n",
    "    p=naiveb(i)\n",
    "    print(data['Animal Type'][p.index(max(p))])\n",
    "    l.append(data['Animal Type'][p.index(max(p))])  "
   ]
  },
  {
   "cell_type": "code",
   "execution_count": 18,
   "metadata": {},
   "outputs": [],
   "source": [
    "data1['Animal Type']=l"
   ]
  },
  {
   "cell_type": "code",
   "execution_count": 19,
   "metadata": {},
   "outputs": [],
   "source": [
    "data1.to_csv('check.csv')"
   ]
  }
 ],
 "metadata": {
  "kernelspec": {
   "display_name": "Python 3",
   "language": "python",
   "name": "python3"
  },
  "language_info": {
   "codemirror_mode": {
    "name": "ipython",
    "version": 3
   },
   "file_extension": ".py",
   "mimetype": "text/x-python",
   "name": "python",
   "nbconvert_exporter": "python",
   "pygments_lexer": "ipython3",
   "version": "3.7.4"
  }
 },
 "nbformat": 4,
 "nbformat_minor": 2
}
