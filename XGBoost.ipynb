{
  "nbformat": 4,
  "nbformat_minor": 0,
  "metadata": {
    "colab": {
      "name": "XGBoost.ipynb",
      "provenance": [],
      "authorship_tag": "ABX9TyP9yJHG5VVskose22BR34D5",
      "include_colab_link": true
    },
    "kernelspec": {
      "name": "python3",
      "display_name": "Python 3"
    }
  },
  "cells": [
    {
      "cell_type": "markdown",
      "metadata": {
        "id": "view-in-github",
        "colab_type": "text"
      },
      "source": [
        "<a href=\"https://colab.research.google.com/github/deepanshumehtaa/csvfiles/blob/master/XGBoost.ipynb\" target=\"_parent\"><img src=\"https://colab.research.google.com/assets/colab-badge.svg\" alt=\"Open In Colab\"/></a>"
      ]
    },
    {
      "cell_type": "code",
      "metadata": {
        "id": "Y7d1R2iN-Fa9",
        "colab_type": "code",
        "colab": {}
      },
      "source": [
        "import pickle\n",
        "import xgboost as xgb\n",
        "\n",
        "import numpy as np\n",
        "from sklearn.model_selection import KFold, train_test_split, GridSearchCV\n",
        "from sklearn.metrics import confusion_matrix, mean_squared_error\n",
        "from sklearn.datasets import load_iris, load_digits, load_boston\n",
        "\n"
      ],
      "execution_count": 0,
      "outputs": []
    },
    {
      "cell_type": "code",
      "metadata": {
        "id": "luJVvhes-Nxt",
        "colab_type": "code",
        "colab": {
          "base_uri": "https://localhost:8080/",
          "height": 105
        },
        "outputId": "e193da06-1cac-419c-8c30-92c8f596e9d9"
      },
      "source": [
        "rng = np.random.RandomState(31337)\n",
        "\n",
        "print(\"Zeros and Ones from the Digits dataset: binary classification\")\n",
        "digits = load_digits(2)\n",
        "y = digits['target']\n",
        "X = digits['data']\n",
        "kf = KFold(n_splits=2, shuffle=True, random_state=rng)\n",
        "for train_index, test_index in kf.split(X):\n",
        "    xgb_model = xgb.XGBClassifier().fit(X[train_index], y[train_index])\n",
        "    predictions = xgb_model.predict(X[test_index])\n",
        "    actuals = y[test_index]\n",
        "    print(confusion_matrix(actuals, predictions))\n",
        "\n"
      ],
      "execution_count": 3,
      "outputs": [
        {
          "output_type": "stream",
          "text": [
            "Zeros and Ones from the Digits dataset: binary classification\n",
            "[[87  0]\n",
            " [ 1 92]]\n",
            "[[91  0]\n",
            " [ 3 86]]\n"
          ],
          "name": "stdout"
        }
      ]
    },
    {
      "cell_type": "code",
      "metadata": {
        "id": "hAnaZFQv-ojz",
        "colab_type": "code",
        "colab": {
          "base_uri": "https://localhost:8080/",
          "height": 141
        },
        "outputId": "4a60af1b-9aa9-4d05-d8ce-e69468b8e13b"
      },
      "source": [
        "print(\"Iris: multiclass classification\")\n",
        "iris = load_iris()\n",
        "y = iris['target']\n",
        "X = iris['data']\n",
        "kf = KFold(n_splits=2, shuffle=True, random_state=rng)\n",
        "for train_index, test_index in kf.split(X):\n",
        "    xgb_model = xgb.XGBClassifier().fit(X[train_index], y[train_index])\n",
        "    predictions = xgb_model.predict(X[test_index])\n",
        "    actuals = y[test_index]\n",
        "    print(confusion_matrix(actuals, predictions))\n",
        "\n"
      ],
      "execution_count": 4,
      "outputs": [
        {
          "output_type": "stream",
          "text": [
            "Iris: multiclass classification\n",
            "[[19  0  0]\n",
            " [ 0 31  3]\n",
            " [ 0  1 21]]\n",
            "[[31  0  0]\n",
            " [ 0 16  0]\n",
            " [ 0  3 25]]\n"
          ],
          "name": "stdout"
        }
      ]
    },
    {
      "cell_type": "code",
      "metadata": {
        "id": "Jk453irn-c5s",
        "colab_type": "code",
        "colab": {
          "base_uri": "https://localhost:8080/",
          "height": 1000
        },
        "outputId": "14d8b392-0668-4693-c8be-a68dbdee5797"
      },
      "source": [
        "print(\"Boston Housing: regression\")\n",
        "boston = load_boston()\n",
        "y = boston['target']\n",
        "X = boston['data']\n",
        "kf = KFold(n_splits=2, shuffle=True, random_state=rng)\n",
        "for train_index, test_index in kf.split(X):\n",
        "    xgb_model = xgb.XGBRegressor().fit(X[train_index], y[train_index])\n",
        "    predictions = xgb_model.predict(X[test_index])\n",
        "    actuals = y[test_index]\n",
        "    print(mean_squared_error(actuals, predictions))\n",
        "\n",
        "print(\"Parameter optimization\")\n",
        "y = boston['target']\n",
        "X = boston['data']\n",
        "xgb_model = xgb.XGBRegressor()\n",
        "clf = GridSearchCV(xgb_model,\n",
        "                   {'max_depth': [2,4,6],\n",
        "                    'n_estimators': [50,100,200]}, verbose=1)\n",
        "clf.fit(X,y)\n",
        "print(clf.best_score_)\n",
        "print(clf.best_params_)\n",
        "\n",
        "# The sklearn API models are picklable\n",
        "print(\"Pickling sklearn API models\")\n",
        "# must open in binary format to pickle\n",
        "pickle.dump(clf, open(\"best_boston.pkl\", \"wb\"))\n",
        "clf2 = pickle.load(open(\"best_boston.pkl\", \"rb\"))\n",
        "print(np.allclose(clf.predict(X), clf2.predict(X)))\n",
        "\n",
        "# Early-stopping\n",
        "\n",
        "X = digits['data']\n",
        "y = digits['target']\n",
        "X_train, X_test, y_train, y_test = train_test_split(X, y, random_state=0)\n",
        "clf = xgb.XGBClassifier()\n",
        "clf.fit(X_train, y_train, early_stopping_rounds=10, eval_metric=\"auc\",\n",
        "        eval_set=[(X_test, y_test)])"
      ],
      "execution_count": 5,
      "outputs": [
        {
          "output_type": "stream",
          "text": [
            "Boston Housing: regression\n",
            "[12:46:25] WARNING: /workspace/src/objective/regression_obj.cu:152: reg:linear is now deprecated in favor of reg:squarederror.\n",
            "9.860776812557337\n",
            "[12:46:25] WARNING: /workspace/src/objective/regression_obj.cu:152: reg:linear is now deprecated in favor of reg:squarederror.\n",
            "15.942418468446029\n",
            "Parameter optimization\n",
            "Fitting 5 folds for each of 9 candidates, totalling 45 fits\n",
            "[12:46:25] WARNING: /workspace/src/objective/regression_obj.cu:152: reg:linear is now deprecated in favor of reg:squarederror.\n",
            "[12:46:25] WARNING: /workspace/src/objective/regression_obj.cu:152: reg:linear is now deprecated in favor of reg:squarederror.\n",
            "[12:46:25] WARNING: /workspace/src/objective/regression_obj.cu:152: reg:linear is now deprecated in favor of reg:squarederror.\n",
            "[12:46:25] WARNING: /workspace/src/objective/regression_obj.cu:152: reg:linear is now deprecated in favor of reg:squarederror.\n",
            "[12:46:25] WARNING: /workspace/src/objective/regression_obj.cu:152: reg:linear is now deprecated in favor of reg:squarederror.\n",
            "[12:46:25] WARNING: /workspace/src/objective/regression_obj.cu:152: reg:linear is now deprecated in favor of reg:squarederror.\n",
            "[12:46:25] WARNING: /workspace/src/objective/regression_obj.cu:152: reg:linear is now deprecated in favor of reg:squarederror.\n"
          ],
          "name": "stdout"
        },
        {
          "output_type": "stream",
          "text": [
            "[Parallel(n_jobs=1)]: Using backend SequentialBackend with 1 concurrent workers.\n"
          ],
          "name": "stderr"
        },
        {
          "output_type": "stream",
          "text": [
            "[12:46:25] WARNING: /workspace/src/objective/regression_obj.cu:152: reg:linear is now deprecated in favor of reg:squarederror.\n",
            "[12:46:25] WARNING: /workspace/src/objective/regression_obj.cu:152: reg:linear is now deprecated in favor of reg:squarederror.\n",
            "[12:46:25] WARNING: /workspace/src/objective/regression_obj.cu:152: reg:linear is now deprecated in favor of reg:squarederror.\n",
            "[12:46:25] WARNING: /workspace/src/objective/regression_obj.cu:152: reg:linear is now deprecated in favor of reg:squarederror.\n",
            "[12:46:25] WARNING: /workspace/src/objective/regression_obj.cu:152: reg:linear is now deprecated in favor of reg:squarederror.\n",
            "[12:46:25] WARNING: /workspace/src/objective/regression_obj.cu:152: reg:linear is now deprecated in favor of reg:squarederror.\n",
            "[12:46:25] WARNING: /workspace/src/objective/regression_obj.cu:152: reg:linear is now deprecated in favor of reg:squarederror.\n",
            "[12:46:26] WARNING: /workspace/src/objective/regression_obj.cu:152: reg:linear is now deprecated in favor of reg:squarederror.\n",
            "[12:46:26] WARNING: /workspace/src/objective/regression_obj.cu:152: reg:linear is now deprecated in favor of reg:squarederror.\n",
            "[12:46:26] WARNING: /workspace/src/objective/regression_obj.cu:152: reg:linear is now deprecated in favor of reg:squarederror.\n",
            "[12:46:26] WARNING: /workspace/src/objective/regression_obj.cu:152: reg:linear is now deprecated in favor of reg:squarederror.\n",
            "[12:46:26] WARNING: /workspace/src/objective/regression_obj.cu:152: reg:linear is now deprecated in favor of reg:squarederror.\n",
            "[12:46:26] WARNING: /workspace/src/objective/regression_obj.cu:152: reg:linear is now deprecated in favor of reg:squarederror.\n",
            "[12:46:26] WARNING: /workspace/src/objective/regression_obj.cu:152: reg:linear is now deprecated in favor of reg:squarederror.\n",
            "[12:46:26] WARNING: /workspace/src/objective/regression_obj.cu:152: reg:linear is now deprecated in favor of reg:squarederror.\n",
            "[12:46:26] WARNING: /workspace/src/objective/regression_obj.cu:152: reg:linear is now deprecated in favor of reg:squarederror.\n",
            "[12:46:26] WARNING: /workspace/src/objective/regression_obj.cu:152: reg:linear is now deprecated in favor of reg:squarederror.\n",
            "[12:46:26] WARNING: /workspace/src/objective/regression_obj.cu:152: reg:linear is now deprecated in favor of reg:squarederror.\n",
            "[12:46:26] WARNING: /workspace/src/objective/regression_obj.cu:152: reg:linear is now deprecated in favor of reg:squarederror.\n",
            "[12:46:26] WARNING: /workspace/src/objective/regression_obj.cu:152: reg:linear is now deprecated in favor of reg:squarederror.\n",
            "[12:46:26] WARNING: /workspace/src/objective/regression_obj.cu:152: reg:linear is now deprecated in favor of reg:squarederror.\n",
            "[12:46:26] WARNING: /workspace/src/objective/regression_obj.cu:152: reg:linear is now deprecated in favor of reg:squarederror.\n",
            "[12:46:26] WARNING: /workspace/src/objective/regression_obj.cu:152: reg:linear is now deprecated in favor of reg:squarederror.\n",
            "[12:46:26] WARNING: /workspace/src/objective/regression_obj.cu:152: reg:linear is now deprecated in favor of reg:squarederror.\n",
            "[12:46:27] WARNING: /workspace/src/objective/regression_obj.cu:152: reg:linear is now deprecated in favor of reg:squarederror.\n",
            "[12:46:27] WARNING: /workspace/src/objective/regression_obj.cu:152: reg:linear is now deprecated in favor of reg:squarederror.\n",
            "[12:46:27] WARNING: /workspace/src/objective/regression_obj.cu:152: reg:linear is now deprecated in favor of reg:squarederror.\n",
            "[12:46:27] WARNING: /workspace/src/objective/regression_obj.cu:152: reg:linear is now deprecated in favor of reg:squarederror.\n",
            "[12:46:27] WARNING: /workspace/src/objective/regression_obj.cu:152: reg:linear is now deprecated in favor of reg:squarederror.\n",
            "[12:46:27] WARNING: /workspace/src/objective/regression_obj.cu:152: reg:linear is now deprecated in favor of reg:squarederror.\n",
            "[12:46:27] WARNING: /workspace/src/objective/regression_obj.cu:152: reg:linear is now deprecated in favor of reg:squarederror.\n",
            "[12:46:27] WARNING: /workspace/src/objective/regression_obj.cu:152: reg:linear is now deprecated in favor of reg:squarederror.\n",
            "[12:46:27] WARNING: /workspace/src/objective/regression_obj.cu:152: reg:linear is now deprecated in favor of reg:squarederror.\n",
            "[12:46:27] WARNING: /workspace/src/objective/regression_obj.cu:152: reg:linear is now deprecated in favor of reg:squarederror.\n",
            "[12:46:27] WARNING: /workspace/src/objective/regression_obj.cu:152: reg:linear is now deprecated in favor of reg:squarederror.\n",
            "[12:46:27] WARNING: /workspace/src/objective/regression_obj.cu:152: reg:linear is now deprecated in favor of reg:squarederror.\n",
            "[12:46:28] WARNING: /workspace/src/objective/regression_obj.cu:152: reg:linear is now deprecated in favor of reg:squarederror.\n",
            "[12:46:28] WARNING: /workspace/src/objective/regression_obj.cu:152: reg:linear is now deprecated in favor of reg:squarederror.\n",
            "[12:46:28] WARNING: /workspace/src/objective/regression_obj.cu:152: reg:linear is now deprecated in favor of reg:squarederror.\n",
            "0.6697440508380478\n",
            "{'max_depth': 2, 'n_estimators': 100}\n",
            "Pickling sklearn API models\n",
            "[12:46:28] WARNING: /workspace/src/objective/regression_obj.cu:152: reg:linear is now deprecated in favor of reg:squarederror.\n",
            "True\n",
            "[0]\tvalidation_0-auc:0.999497\n",
            "Will train until validation_0-auc hasn't improved in 10 rounds.\n",
            "[1]\tvalidation_0-auc:0.999497\n",
            "[2]\tvalidation_0-auc:0.999497\n",
            "[3]\tvalidation_0-auc:0.999749\n",
            "[4]\tvalidation_0-auc:0.999749\n",
            "[5]\tvalidation_0-auc:0.999749\n",
            "[6]\tvalidation_0-auc:0.999749\n",
            "[7]\tvalidation_0-auc:0.999749\n",
            "[8]\tvalidation_0-auc:0.999749\n",
            "[9]\tvalidation_0-auc:0.999749\n",
            "[10]\tvalidation_0-auc:1\n",
            "[11]\tvalidation_0-auc:1\n",
            "[12]\tvalidation_0-auc:1\n",
            "[13]\tvalidation_0-auc:1\n",
            "[14]\tvalidation_0-auc:1\n",
            "[15]\tvalidation_0-auc:1\n",
            "[16]\tvalidation_0-auc:1\n",
            "[17]\tvalidation_0-auc:1\n",
            "[18]\tvalidation_0-auc:1\n",
            "[19]\tvalidation_0-auc:1\n",
            "[20]\tvalidation_0-auc:1\n",
            "Stopping. Best iteration:\n",
            "[10]\tvalidation_0-auc:1\n",
            "\n"
          ],
          "name": "stdout"
        },
        {
          "output_type": "stream",
          "text": [
            "[Parallel(n_jobs=1)]: Done  45 out of  45 | elapsed:    2.8s finished\n"
          ],
          "name": "stderr"
        },
        {
          "output_type": "execute_result",
          "data": {
            "text/plain": [
              "XGBClassifier(base_score=0.5, booster='gbtree', colsample_bylevel=1,\n",
              "              colsample_bynode=1, colsample_bytree=1, gamma=0,\n",
              "              learning_rate=0.1, max_delta_step=0, max_depth=3,\n",
              "              min_child_weight=1, missing=None, n_estimators=100, n_jobs=1,\n",
              "              nthread=None, objective='binary:logistic', random_state=0,\n",
              "              reg_alpha=0, reg_lambda=1, scale_pos_weight=1, seed=None,\n",
              "              silent=None, subsample=1, verbosity=1)"
            ]
          },
          "metadata": {
            "tags": []
          },
          "execution_count": 5
        }
      ]
    },
    {
      "cell_type": "code",
      "metadata": {
        "id": "F3p91k2o-vjS",
        "colab_type": "code",
        "colab": {}
      },
      "source": [
        ""
      ],
      "execution_count": 0,
      "outputs": []
    }
  ]
}